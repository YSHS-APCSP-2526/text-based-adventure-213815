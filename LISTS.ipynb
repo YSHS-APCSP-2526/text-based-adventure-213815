{
  "nbformat": 4,
  "nbformat_minor": 0,
  "metadata": {
    "colab": {
      "provenance": [],
      "include_colab_link": true
    },
    "kernelspec": {
      "name": "python3",
      "display_name": "Python 3"
    },
    "language_info": {
      "name": "python"
    }
  },
  "cells": [
    {
      "cell_type": "markdown",
      "metadata": {
        "id": "view-in-github",
        "colab_type": "text"
      },
      "source": [
        "<a href=\"https://colab.research.google.com/github/YSHS-APCSP-2526/text-based-adventure-213815/blob/main/LISTS.ipynb\" target=\"_parent\"><img src=\"https://colab.research.google.com/assets/colab-badge.svg\" alt=\"Open In Colab\"/></a>"
      ]
    },
    {
      "cell_type": "markdown",
      "source": [
        "#Using a List As an Inventory\n",
        "Concept: Keep track of items the player picks up or uses."
      ],
      "metadata": {
        "id": "AEGRvi_Jl7wb"
      }
    },
    {
      "cell_type": "code",
      "execution_count": null,
      "metadata": {
        "id": "ZglPUjk3l20h"
      },
      "outputs": [],
      "source": [
        "inventory = []\n",
        "\n",
        "item = input(\"You find a flashlight. Pick it up? (yes/no): \")\n",
        "if item.lower() == \"yes\":\n",
        "    inventory.append(\"flashlight\")\n",
        "    print(\"You added a flashlight to your inventory!\")\n",
        "\n"
      ]
    },
    {
      "cell_type": "code",
      "source": [
        "\n",
        "if \"flashlight\" in inventory:\n",
        "    print(\"You turn on your flashlight and see a hidden door!\")"
      ],
      "metadata": {
        "id": "1sdqfiSrl6cZ"
      },
      "execution_count": null,
      "outputs": []
    },
    {
      "cell_type": "markdown",
      "source": [
        "#Randomizing Dialogue\n",
        "Concept: Pick random text or events from a list to keep the game fresh."
      ],
      "metadata": {
        "id": "bQY1bzdVmAzk"
      }
    },
    {
      "cell_type": "code",
      "source": [
        "import random\n",
        "\n",
        "enemy_dialogue = [\n",
        "    \"You'll never get past me!\",\n",
        "    \"Prepare to lose, traveler!\",\n",
        "    \"I've been waiting for this moment!\"\n",
        "]\n",
        "\n",
        "print(random.choice(enemy_dialogue))"
      ],
      "metadata": {
        "id": "pP2Ci8J5mAeX"
      },
      "execution_count": null,
      "outputs": []
    },
    {
      "cell_type": "markdown",
      "source": [
        "#Choices or Branching Paths\n",
        "\n",
        "Concept: Store possible player actions in a list and check if their choice is valid."
      ],
      "metadata": {
        "id": "CD9K7tJOmLPu"
      }
    },
    {
      "cell_type": "code",
      "source": [
        "options = [\"fight\", \"run\", \"talk\"]\n",
        "\n",
        "choice = input(\"What will you do? (fight/run/talk): \").lower()\n",
        "if choice in options:\n",
        "    print(\"You chose to\", choice)\n",
        "else:\n",
        "    print(\"That’s not a valid action!\")\n",
        "Teachable skill:"
      ],
      "metadata": {
        "id": "O4mKWIfOmTCA"
      },
      "execution_count": null,
      "outputs": []
    },
    {
      "cell_type": "markdown",
      "source": [
        "#Scoreboard or Progress Tracker\n",
        "\n",
        "Concept: Record progress or achievements in a list and display them at the end."
      ],
      "metadata": {
        "id": "gMvnCxwImYZ7"
      }
    },
    {
      "cell_type": "code",
      "source": [
        "achievements = []\n",
        "\n",
        "achievements.append(\"Escaped the dungeon\")\n",
        "achievements.append(\"Defeated the troll\")\n",
        "\n",
        "print(\"Your achievements:\")\n",
        "for a in achievements:\n",
        "    print(\"-\", a)"
      ],
      "metadata": {
        "colab": {
          "base_uri": "https://localhost:8080/"
        },
        "id": "BHsIyVI9mexT",
        "outputId": "4bf60e2c-14bd-48b6-a199-f42c0f9f084a"
      },
      "execution_count": null,
      "outputs": [
        {
          "output_type": "stream",
          "name": "stdout",
          "text": [
            "Your achievements:\n",
            "- Escaped the dungeon\n",
            "- Defeated the troll\n"
          ]
        }
      ]
    },
    {
      "cell_type": "markdown",
      "source": [],
      "metadata": {
        "id": "0Wv5rl_KmeMV"
      }
    }
  ]
}