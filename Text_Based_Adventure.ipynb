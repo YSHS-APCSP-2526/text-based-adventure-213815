{
  "nbformat": 4,
  "nbformat_minor": 0,
  "metadata": {
    "colab": {
      "provenance": [],
      "include_colab_link": true
    },
    "kernelspec": {
      "name": "python3",
      "display_name": "Python 3"
    },
    "language_info": {
      "name": "python"
    }
  },
  "cells": [
    {
      "cell_type": "markdown",
      "metadata": {
        "id": "view-in-github",
        "colab_type": "text"
      },
      "source": [
        "<a href=\"https://colab.research.google.com/github/YSHS-APCSP-2526/text-based-adventure-213815/blob/main/Text_Based_Adventure.ipynb\" target=\"_parent\"><img src=\"https://colab.research.google.com/assets/colab-badge.svg\" alt=\"Open In Colab\"/></a>"
      ]
    },
    {
      "cell_type": "markdown",
      "source": [
        "#Requirements for text based adventure\n",
        "1. You must have at least 2 different \"paths\" that are at least 4 decisions in length\n",
        "2. Include an element of randomness (from the random library)\n",
        "3. Include a list that is core to the text based adventure\n",
        "4. Include a function that is called within your program that includes a while loop, and a parameter that influences a conditional statement in your function.\n",
        "5. Commented Code.\n",
        "6. A [digital flowchart](https://docs.google.com/document/d/1p2k3wL6gzjYWBuWxwEQptmbbOZZNsQrthlC12SNtYgY/edit?usp=sharing) that follows accepted symbols for representing code. You can use google slides or [draw.io](https://www.drawio.com/) for the flowchart."
      ],
      "metadata": {
        "id": "zpSmche7G_jy"
      }
    },
    {
      "cell_type": "code",
      "source": [
        "def intro():\n",
        "  response = input (\"You aproach a corn maze. Would you like to begin?\")\n",
        "  return response"
      ],
      "metadata": {
        "id": "DToswc3clKpf"
      },
      "execution_count": 1,
      "outputs": []
    },
    {
      "cell_type": "code",
      "source": [
        "def choiceYes(response):\n",
        "  if response == \"yes\":\n",
        "    print(\"You enter the maze\")\n",
        "  else:\n",
        "    print(\"GAME OVER\")"
      ],
      "metadata": {
        "id": "ww-iSUtt9yzK"
      },
      "execution_count": 40,
      "outputs": []
    },
    {
      "cell_type": "code",
      "source": [
        "def insideMaze():\n",
        "  response = input (\"You are now inside. Do you want to turn left or right?\")\n",
        "  return response"
      ],
      "metadata": {
        "id": "s5XLjjE1BSBl"
      },
      "execution_count": 4,
      "outputs": []
    },
    {
      "cell_type": "code",
      "source": [
        "def choiceLeft(response):\n",
        "  if response == \"left\":\n",
        "    print(\"You keep walking until you see a man. Should you go talk to him?\")"
      ],
      "metadata": {
        "id": "nUsJ1qj9COi6"
      },
      "execution_count": 16,
      "outputs": []
    },
    {
      "cell_type": "code",
      "source": [
        "def main():\n",
        "  response = intro()\n",
        "  choiceYes(response)\n",
        "  if choiceYes == True:\n",
        "    response = insideMaze()\n",
        "  else:\n",
        "    print(\"\")\n",
        "  choiceLeft(response)\n",
        ""
      ],
      "metadata": {
        "id": "LQuG-KfJlMj3"
      },
      "execution_count": 43,
      "outputs": []
    },
    {
      "cell_type": "code",
      "source": [
        "main()"
      ],
      "metadata": {
        "colab": {
          "base_uri": "https://localhost:8080/"
        },
        "id": "vcFLmRCD9oeq",
        "outputId": "c32f7b6d-0fd3-4cf8-e7ab-d847c4076a90"
      },
      "execution_count": 51,
      "outputs": [
        {
          "output_type": "stream",
          "name": "stdout",
          "text": [
            "You aproach a corn maze. Would you like to begin?yes\n",
            "You enter the maze\n",
            "\n"
          ]
        }
      ]
    },
    {
      "cell_type": "code",
      "source": [],
      "metadata": {
        "id": "xL-aaFe7Bw3i"
      },
      "execution_count": 45,
      "outputs": []
    }
  ]
}